{
  "nbformat": 4,
  "nbformat_minor": 0,
  "metadata": {
    "colab": {
      "name": "quantLib_121820",
      "provenance": [],
      "authorship_tag": "ABX9TyPjS5RbN0tSLxRnY1qBxLqB",
      "include_colab_link": true
    },
    "kernelspec": {
      "name": "python3",
      "display_name": "Python 3"
    }
  },
  "cells": [
    {
      "cell_type": "markdown",
      "metadata": {
        "id": "view-in-github",
        "colab_type": "text"
      },
      "source": [
        "<a href=\"https://colab.research.google.com/github/vsgcap2/hello/blob/main/quantLib_121820.ipynb\" target=\"_parent\"><img src=\"https://colab.research.google.com/assets/colab-badge.svg\" alt=\"Open In Colab\"/></a>"
      ]
    },
    {
      "cell_type": "code",
      "metadata": {
        "id": "veRuPGe6PAdr"
      },
      "source": [
        "import QuantLib as ql"
      ],
      "execution_count": null,
      "outputs": []
    },
    {
      "cell_type": "code",
      "metadata": {
        "id": "M-mAYMb05f5M"
      },
      "source": [
        "today = ql.Date(15,6,2020)\r\n",
        "today"
      ],
      "execution_count": null,
      "outputs": []
    },
    {
      "cell_type": "code",
      "metadata": {
        "id": "qDTZQFzI5mY2"
      },
      "source": [
        "nominal = 100.\r\n",
        "startDate = ql.Date(15,12,2020)\r\n",
        "endDate = ql.Date(15,6,2021)\r\n",
        "rate = .05\r\n",
        "dayCounter = ql.Actual360()\r\n",
        "index = ql.Euribor6M()\r\n",
        "fixingDays = 2\r\n",
        "swapIndex = ql.EuriborSwapIsdaFixA(ql.Period(\"2Y\"))\r\n",
        "cms = ql.CmsCoupon(endDate, nominal, startDate, endDate, fixingDays, swapIndex)"
      ],
      "execution_count": null,
      "outputs": []
    }
  ]
}