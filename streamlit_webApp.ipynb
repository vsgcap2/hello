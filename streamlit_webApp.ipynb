{
  "nbformat": 4,
  "nbformat_minor": 0,
  "metadata": {
    "colab": {
      "name": "streamlit_webApp.ipynb",
      "provenance": [],
      "collapsed_sections": [],
      "authorship_tag": "ABX9TyMrfBcUTAkVtOq75Z3bp2N9",
      "include_colab_link": true
    },
    "kernelspec": {
      "name": "python3",
      "display_name": "Python 3"
    }
  },
  "cells": [
    {
      "cell_type": "markdown",
      "metadata": {
        "id": "view-in-github",
        "colab_type": "text"
      },
      "source": [
        "<a href=\"https://colab.research.google.com/github/vsgcap2/hello/blob/main/streamlit_webApp.ipynb\" target=\"_parent\"><img src=\"https://colab.research.google.com/assets/colab-badge.svg\" alt=\"Open In Colab\"/></a>"
      ]
    },
    {
      "cell_type": "markdown",
      "metadata": {
        "id": "EoK7wnGVE_xF"
      },
      "source": [
        "Description: This is a stock market dashboard to show some charts and data "
      ]
    },
    {
      "cell_type": "code",
      "metadata": {
        "id": "CcGQXGiJKhaz"
      },
      "source": [
        "pip install streamlit"
      ],
      "execution_count": null,
      "outputs": []
    },
    {
      "cell_type": "code",
      "metadata": {
        "id": "NcKBCOCeFUnv"
      },
      "source": [
        "import streamlit as st\r\n",
        "import pandas as pd\r\n",
        "from PIL import Image"
      ],
      "execution_count": 1,
      "outputs": []
    },
    {
      "cell_type": "code",
      "metadata": {
        "id": "2CdM0czvMj7u"
      },
      "source": [
        "from google.colab import files\r\n",
        "files.upload()"
      ],
      "execution_count": null,
      "outputs": []
    },
    {
      "cell_type": "code",
      "metadata": {
        "id": "wqraZk2DKTKd"
      },
      "source": [
        "st.write(\"\"\"\r\n",
        "# Stock Marke Web Application\r\n",
        "**Visually** show data on a stock!\r\n",
        "\"\"\")\r\n",
        "image = Image.open()\r\n"
      ],
      "execution_count": null,
      "outputs": []
    },
    {
      "cell_type": "code",
      "metadata": {
        "id": "WufaMthPOxw3"
      },
      "source": [
        "!pip install QuantLib-Python"
      ],
      "execution_count": null,
      "outputs": []
    },
    {
      "cell_type": "code",
      "metadata": {
        "id": "veRuPGe6PAdr"
      },
      "source": [
        "import QuantLib as ql"
      ],
      "execution_count": 10,
      "outputs": []
    },
    {
      "cell_type": "code",
      "metadata": {
        "id": "7UTvPu6ZYzey"
      },
      "source": [
        "today = ql.Date(15,6,2020)\r\n",
        "today"
      ],
      "execution_count": null,
      "outputs": []
    },
    {
      "cell_type": "code",
      "metadata": {
        "id": "z1WBb_M9aeWM"
      },
      "source": [
        "nominal = 100.\r\n",
        "startDate = ql.Date(15,12,2020)\r\n",
        "endDate = ql.Date(15,6,2021)\r\n",
        "rate = .05\r\n",
        "dayCounter = ql.Actual360()\r\n",
        "index = ql.Euribor6M()\r\n",
        "fixingDays = 2\r\n",
        "swapIndex = ql.EuriborSwapIsdaFixA(ql.Period(\"2Y\"))\r\n",
        "cms = ql.CmsCoupon(endDate, nominal, startDate, endDate, fixingDays, swapIndex)"
      ],
      "execution_count": 14,
      "outputs": []
    },
    {
      "cell_type": "code",
      "metadata": {
        "colab": {
          "base_uri": "https://localhost:8080/"
        },
        "id": "hKTCswEoalc8",
        "outputId": "0df0b073-2aaa-425c-dc54-4068ecbce5c3"
      },
      "source": [
        "cms.rate"
      ],
      "execution_count": 20,
      "outputs": [
        {
          "output_type": "execute_result",
          "data": {
            "text/plain": [
              "<bound method Coupon.rate of <QuantLib.QuantLib.CmsCoupon; proxy of <Swig Object of type 'ext::shared_ptr< CmsCoupon > *' at 0x7fc5fdd1e720> >>"
            ]
          },
          "metadata": {
            "tags": []
          },
          "execution_count": 20
        }
      ]
    }
  ]
}